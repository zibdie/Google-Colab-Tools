{
  "nbformat": 4,
  "nbformat_minor": 0,
  "metadata": {
    "colab": {
      "name": "Google Colab Tools.ipynb",
      "provenance": []
    },
    "kernelspec": {
      "name": "python3",
      "display_name": "Python 3"
    }
  },
  "cells": [
    {
      "cell_type": "markdown",
      "metadata": {
        "colab_type": "text"
      },
      "source": [
        "# **Anaconda 3 (Python 3.7)**\n",
        "\n",
        "Handy little script to install & run Anaconda 3 on Google Colab, simply run the cell below and wait for the intallation to complete. This will automatically find the latest version and install it along with updating all packages.\n",
        "\n",
        "Download this notebook, upload it to your drive, and run it on Google Colab. \n",
        "\n",
        "**NOTE:** Remember to set your settings beforehand (such as if you want to use CPU, GPU, TPU, etc)\n",
        "\n",
        "Also, Google Colab/Anaconda may not use Python 3.7 specifically so please just change the variables. The script should get the latest Anaconda version"
      ]
    },
    {
      "cell_type": "code",
      "metadata": {
        "colab_type": "code",
        "colab": {}
      },
      "source": [
        "import os\n",
        "import sys\n",
        "from bs4 import BeautifulSoup\n",
        "import requests\n",
        "\n",
        "anacondalist = requests.get('https://repo.anaconda.com/archive/').text\n",
        "soup = BeautifulSoup(anacondalist, 'lxml')\n",
        "listver = soup.find('a', href=True, text=True)\n",
        "for table_entries in soup.find_all('a', href=True, text=True):\n",
        "  if 'Linux-x86_64.sh' in table_entries.text and 'Anaconda3' in table_entries.text:\n",
        "    latestver = table_entries.text\n",
        "    break\n",
        "\n",
        "print('------Detected Latest Version: {}------'.format(latestver))\n",
        "\n",
        "bash_script = '''!/bin/sh\n",
        "curl --url https://repo.anaconda.com/archive/{} --output /tmp/{}\n",
        "sudo bash /tmp/{} -bfp /usr/local\n",
        "sudo conda update -y --all\n",
        "sudo pip install --upgrade pip\n",
        "sudo rm /tmp/{}\n",
        "'''.format(latestver, latestver, latestver, latestver)\n",
        "\n",
        "f = open(\"/tmp/script.sh\", \"w\")\n",
        "f.write(bash_script)\n",
        "f.close()\n",
        "\n",
        "print('------Executing Script & Starting Download------')\n",
        "!chmod +x /tmp/script.sh\n",
        "!sudo sh /tmp/script.sh\n",
        "\n",
        "print('------Amending Path------')\n",
        "sys.path.append('/usr/local/lib/python3.7/site-packages/')\n",
        "print('------CELL COMPLETE!------')\n",
        "os.remove(\"/tmp/script.sh\")"
      ],
      "execution_count": 0,
      "outputs": []
    },
    {
      "cell_type": "markdown",
      "metadata": {
        "colab_type": "text"
      },
      "source": [
        "# **Downloading & Unzipping Large Files to Google Drive**\n",
        "\n",
        "Are you working with a large dataset that is in a zip folder? Let's say 700MB? Over 25,000 files in this zip folder? Here is a handy way to downloading & unzip to your Google Drive account for permanent storage! [*You can even download it to your Google Colab session, however it will be wiped as soon as you close the session or it times out*]"
      ]
    },
    {
      "cell_type": "code",
      "metadata": {
        "colab_type": "code",
        "colab": {}
      },
      "source": [
        "import os\n",
        "from google.colab import drive\n",
        "from zipfile import ZipFile\n",
        "drive.mount('/content/drive', force_remount=True)\n",
        "root_path = '/content/drive/My Drive'\n",
        "import requests\n",
        "\n",
        "#Example URL - Cats & Dogs Dataset from Microsoft\n",
        "direct_url = 'https://download.microsoft.com/download/3/E/1/3E1C3F21-ECDB-4869-8368-6DEBA77B919F/kagglecatsanddogs_3367a.zip'\n",
        "\n",
        "#Enter your folder you wish to download here\n",
        "#extract_download = os.path.join(root_path, '<ENTER YOUR FOLDER YOU WISH TO DOWNLOAD TOO!!>')\n",
        "extract_download = os.path.join('root_path', 'Downloads')\n",
        "download_loc = '/tmp/download.zip'\n",
        "\n",
        "if os.path.exists(extract_download) == False:\n",
        "  print('Path Does Not Exist! Creating: {}'.format(extract_download))\n",
        "  os.mkdir(extract_download)\n",
        "\n",
        "print('Downloading File to Temporary Directory...')\n",
        "r = requests.get(direct_url, stream = True) \n",
        "with open(download_loc,\"wb\") as file: \n",
        "    for chunk in r.iter_content(chunk_size=1024): \n",
        "        if chunk: \n",
        "            file.write(chunk) \n",
        "print('Finishing Downloading! Now Unzipping to: {}'.format(extract_download))\n",
        "print('NOTE: This may take awhile....')\n",
        "with ZipFile(download_loc, 'r') as zipObj:\n",
        "  zipObj.extractall(extract_download)\n",
        "os.remove(download_loc)\n",
        "print('---FINISHED!---')"
      ],
      "execution_count": 0,
      "outputs": []
    }
  ]
}